{
 "cells": [
  {
   "cell_type": "code",
   "execution_count": 127,
   "id": "94ccf16b",
   "metadata": {},
   "outputs": [],
   "source": [
    "from sklearn.linear_model import LinearRegression\n",
    "from xgboost import XGBRegressor\n",
    "from sklearn.ensemble import RandomForestRegressor\n",
    "from sklearn.cluster import KMeans\n",
    "import pandas as pd\n",
    "import matplotlib.pyplot as plt\n",
    "import numpy as np\n",
    "from sklearn.preprocessing import StandardScaler\n",
    "from sklearn.model_selection import train_test_split\n",
    "from sklearn.metrics import r2_score"
   ]
  },
  {
   "cell_type": "code",
   "execution_count": null,
   "id": "f6cce3c0",
   "metadata": {},
   "outputs": [],
   "source": [
    "#IMPORTING DATASET"
   ]
  },
  {
   "cell_type": "code",
   "execution_count": 105,
   "id": "cf30878f",
   "metadata": {},
   "outputs": [
    {
     "name": "stdout",
     "output_type": "stream",
     "text": [
      "Index(['price', 'open', 'high', 'low'], dtype='object')\n"
     ]
    },
    {
     "data": {
      "text/html": [
       "<div>\n",
       "<style scoped>\n",
       "    .dataframe tbody tr th:only-of-type {\n",
       "        vertical-align: middle;\n",
       "    }\n",
       "\n",
       "    .dataframe tbody tr th {\n",
       "        vertical-align: top;\n",
       "    }\n",
       "\n",
       "    .dataframe thead th {\n",
       "        text-align: right;\n",
       "    }\n",
       "</style>\n",
       "<table border=\"1\" class=\"dataframe\">\n",
       "  <thead>\n",
       "    <tr style=\"text-align: right;\">\n",
       "      <th></th>\n",
       "      <th>price</th>\n",
       "      <th>open</th>\n",
       "      <th>high</th>\n",
       "      <th>low</th>\n",
       "    </tr>\n",
       "  </thead>\n",
       "  <tbody>\n",
       "    <tr>\n",
       "      <th>0</th>\n",
       "      <td>257.6</td>\n",
       "      <td>264.1</td>\n",
       "      <td>265.0</td>\n",
       "      <td>254.4</td>\n",
       "    </tr>\n",
       "    <tr>\n",
       "      <th>1</th>\n",
       "      <td>254.9</td>\n",
       "      <td>257.6</td>\n",
       "      <td>261.3</td>\n",
       "      <td>253.1</td>\n",
       "    </tr>\n",
       "    <tr>\n",
       "      <th>2</th>\n",
       "      <td>255.4</td>\n",
       "      <td>254.9</td>\n",
       "      <td>256.7</td>\n",
       "      <td>252.4</td>\n",
       "    </tr>\n",
       "    <tr>\n",
       "      <th>3</th>\n",
       "      <td>260.5</td>\n",
       "      <td>255.4</td>\n",
       "      <td>261.1</td>\n",
       "      <td>253.4</td>\n",
       "    </tr>\n",
       "    <tr>\n",
       "      <th>4</th>\n",
       "      <td>270.1</td>\n",
       "      <td>260.5</td>\n",
       "      <td>274.1</td>\n",
       "      <td>257.6</td>\n",
       "    </tr>\n",
       "    <tr>\n",
       "      <th>5</th>\n",
       "      <td>269.1</td>\n",
       "      <td>270.1</td>\n",
       "      <td>277.5</td>\n",
       "      <td>266.5</td>\n",
       "    </tr>\n",
       "    <tr>\n",
       "      <th>6</th>\n",
       "      <td>266.2</td>\n",
       "      <td>269.1</td>\n",
       "      <td>271.3</td>\n",
       "      <td>263.2</td>\n",
       "    </tr>\n",
       "    <tr>\n",
       "      <th>7</th>\n",
       "      <td>268.6</td>\n",
       "      <td>266.2</td>\n",
       "      <td>273.6</td>\n",
       "      <td>263.2</td>\n",
       "    </tr>\n",
       "    <tr>\n",
       "      <th>8</th>\n",
       "      <td>269.1</td>\n",
       "      <td>268.6</td>\n",
       "      <td>272.3</td>\n",
       "      <td>265.1</td>\n",
       "    </tr>\n",
       "    <tr>\n",
       "      <th>9</th>\n",
       "      <td>283.6</td>\n",
       "      <td>269.1</td>\n",
       "      <td>297.9</td>\n",
       "      <td>266.9</td>\n",
       "    </tr>\n",
       "  </tbody>\n",
       "</table>\n",
       "</div>"
      ],
      "text/plain": [
       "   price   open   high    low\n",
       "0  257.6  264.1  265.0  254.4\n",
       "1  254.9  257.6  261.3  253.1\n",
       "2  255.4  254.9  256.7  252.4\n",
       "3  260.5  255.4  261.1  253.4\n",
       "4  270.1  260.5  274.1  257.6\n",
       "5  269.1  270.1  277.5  266.5\n",
       "6  266.2  269.1  271.3  263.2\n",
       "7  268.6  266.2  273.6  263.2\n",
       "8  269.1  268.6  272.3  265.1\n",
       "9  283.6  269.1  297.9  266.9"
      ]
     },
     "execution_count": 105,
     "metadata": {},
     "output_type": "execute_result"
    }
   ],
   "source": [
    "df = pd.read_csv(\"C:\\\\Users\\\\Rocky\\\\Bitcoin_csv\\\\Bitcoin_Price.csv\")\n",
    "print(df.keys())\n",
    "df.head(10)"
   ]
  },
  {
   "cell_type": "code",
   "execution_count": 106,
   "id": "6ce1b87e",
   "metadata": {},
   "outputs": [],
   "source": [
    "s = StandardScaler()\n",
    "s.fit(df)\n",
    "data = s.transform(df)\n",
    "dataset = pd.DataFrame(data)"
   ]
  },
  {
   "cell_type": "code",
   "execution_count": 107,
   "id": "d43835f9",
   "metadata": {},
   "outputs": [
    {
     "name": "stdout",
     "output_type": "stream",
     "text": [
      "(2169, 3)\n",
      "(2169,)\n"
     ]
    }
   ],
   "source": [
    "x = dataset.iloc[:,1:].values\n",
    "y = dataset.iloc[:,0].values\n",
    "print(x.shape)\n",
    "print(y.shape)"
   ]
  },
  {
   "cell_type": "code",
   "execution_count": null,
   "id": "8141a98d",
   "metadata": {},
   "outputs": [],
   "source": [
    "# PLOTTING THE DATA"
   ]
  },
  {
   "cell_type": "code",
   "execution_count": 108,
   "id": "70595c59",
   "metadata": {},
   "outputs": [
    {
     "data": {
      "image/png": "[encoded data removed]",
      "text/plain": [
       "<Figure size 432x288 with 1 Axes>"
      ]
     },
     "metadata": {},
     "output_type": "display_data"
    }
   ],
   "source": [
    "plt.scatter(x[:,0],y,c=y,cmap='cool')\n",
    "plt.show()"
   ]
  },
  {
   "cell_type": "code",
   "execution_count": null,
   "id": "a4da6fab",
   "metadata": {},
   "outputs": [],
   "source": [
    "# TRAINING THE DATASET"
   ]
  },
  {
   "cell_type": "code",
   "execution_count": 109,
   "id": "b4d20a1a",
   "metadata": {},
   "outputs": [
    {
     "name": "stdout",
     "output_type": "stream",
     "text": [
      "(1735, 3)\n",
      "(1735,)\n",
      "(434, 3)\n",
      "(434,)\n"
     ]
    }
   ],
   "source": [
    "xtrain,xtest,ytrain,ytest = train_test_split(x,y,random_state=1,test_size=0.20)\n",
    "\n",
    "print(xtrain.shape)\n",
    "print(ytrain.shape)\n",
    "\n",
    "print(xtest.shape)\n",
    "print(ytest.shape)"
   ]
  },
  {
   "cell_type": "code",
   "execution_count": null,
   "id": "fd0bb0a2",
   "metadata": {},
   "outputs": [],
   "source": [
    "# USING LINEAR REGRESSION"
   ]
  },
  {
   "cell_type": "code",
   "execution_count": 110,
   "id": "247ca614",
   "metadata": {},
   "outputs": [],
   "source": [
    "Li_reg = LinearRegression()\n"
   ]
  },
  {
   "cell_type": "code",
   "execution_count": 111,
   "id": "c1e45a37",
   "metadata": {},
   "outputs": [
    {
     "name": "stdout",
     "output_type": "stream",
     "text": [
      "0.9994322434609186\n"
     ]
    }
   ],
   "source": [
    "Li_reg.fit(xtrain,ytrain)\n",
    "ypredict1 = Li_reg.predict(xtest)\n",
    "s1 = r2_score(ytest,ypredict1)\n",
    "print(s1)"
   ]
  },
  {
   "cell_type": "code",
   "execution_count": null,
   "id": "2fc58544",
   "metadata": {},
   "outputs": [],
   "source": [
    "# USING XGBOOST REGRESSOR"
   ]
  },
  {
   "cell_type": "code",
   "execution_count": 112,
   "id": "cf6bf19c",
   "metadata": {},
   "outputs": [],
   "source": [
    "xgb = XGBRegressor()"
   ]
  },
  {
   "cell_type": "code",
   "execution_count": 113,
   "id": "131e13b1",
   "metadata": {},
   "outputs": [
    {
     "name": "stdout",
     "output_type": "stream",
     "text": [
      "0.9989416813713493\n"
     ]
    }
   ],
   "source": [
    "xgb.fit(xtrain,ytrain)\n",
    "ypredict2 = xgb.predict(xtest)\n",
    "s2 = r2_score(ytest,ypredict2)\n",
    "print(s2)"
   ]
  },
  {
   "cell_type": "code",
   "execution_count": null,
   "id": "9df02ac5",
   "metadata": {},
   "outputs": [],
   "source": [
    "# USING RANDOM FOREST REGRESSOR"
   ]
  },
  {
   "cell_type": "code",
   "execution_count": 125,
   "id": "e00eb507",
   "metadata": {},
   "outputs": [],
   "source": [
    "random = RandomForestRegressor()"
   ]
  },
  {
   "cell_type": "code",
   "execution_count": 126,
   "id": "203fed32",
   "metadata": {},
   "outputs": [
    {
     "name": "stdout",
     "output_type": "stream",
     "text": [
      "0.9989508702157247\n"
     ]
    }
   ],
   "source": [
    "random.fit(xtrain,ytrain)\n",
    "ypredict3 = random.predict(xtest)\n",
    "s3 = r2_score(ytest,ypredict3)\n",
    "print(s3)"
   ]
  },
  {
   "cell_type": "code",
   "execution_count": null,
   "id": "866e9470",
   "metadata": {},
   "outputs": [],
   "source": [
    "# USING K-MEANS CLUSTERING"
   ]
  },
  {
   "cell_type": "code",
   "execution_count": 132,
   "id": "078c06b2",
   "metadata": {},
   "outputs": [
    {
     "name": "stdout",
     "output_type": "stream",
     "text": [
      "0.39908989074180035\n"
     ]
    }
   ],
   "source": [
    "km = KMeans(n_clusters = 2)\n",
    "km.fit(xtrain,ytrain)\n",
    "ypredict4 = km.predict(xtest)\n",
    "s4 = r2_score(ytest,ypredict4)\n",
    "print(s4)"
   ]
  },
  {
   "cell_type": "code",
   "execution_count": null,
   "id": "c3137eb3",
   "metadata": {},
   "outputs": [],
   "source": []
  }
 ],
 "metadata": {
  "kernelspec": {
   "display_name": "Python 3 (ipykernel)",
   "language": "python",
   "name": "python3"
  },
  "language_info": {
   "codemirror_mode": {
    "name": "ipython",
    "version": 3
   },
   "file_extension": ".py",
   "mimetype": "text/x-python",
   "name": "python",
   "nbconvert_exporter": "python",
   "pygments_lexer": "ipython3",
   "version": "3.9.7"
  }
 },
 "nbformat": 4,
 "nbformat_minor": 5
}
